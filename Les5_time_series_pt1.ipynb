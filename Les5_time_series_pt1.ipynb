{
 "cells": [
  {
   "cell_type": "markdown",
   "metadata": {},
   "source": [
    "# Lesson 5: time series pt1, tricks & DIY\n",
    "\n",
    "In this lesson we are going to focus a bit on longitudinal data. We have already seen line plots in one of the first lessons, and these are often used to visalise longitudinal/time-series data. In this lesson we are going to:\n",
    "\n",
    "- See why lines are a a good idea for time series data\n",
    "- look at two types of time series data\n",
    "- how to efficiently plot multiple lines (& in specified colors)\n",
    "- find some data and Do It Yourself!"
   ]
  },
  {
   "cell_type": "code",
   "execution_count": null,
   "metadata": {},
   "outputs": [],
   "source": [
    "import pandas as pd\n",
    "import numpy as np\n",
    "import matplotlib.pyplot as plt\n",
    "plt.rcParams['figure.dpi'] = 100"
   ]
  },
  {
   "cell_type": "markdown",
   "metadata": {},
   "source": [
    "# Lines are a good idea\n",
    "\n",
    "Let's do an example and tell me what you prefer and why. I'm going to load some data that some of you might be familiar with (optional excercise from lesson 2), the weather data from Ukkel. Specifically:\n",
    "\n",
    "- the average temperatre since 2000\n",
    "- the weather for the first semester (14 sep 2020 - 19 feb 2021)"
   ]
  },
  {
   "cell_type": "code",
   "execution_count": null,
   "metadata": {},
   "outputs": [],
   "source": [
    "Ukkel_avg = pd.read_csv('Ukkel_average2000.csv')\n",
    "Ukkel_avg.head()"
   ]
  },
  {
   "cell_type": "code",
   "execution_count": null,
   "metadata": {},
   "outputs": [],
   "source": [
    "Ukkel_sem = pd.read_csv('Ukkel_latest.csv')\n",
    "Ukkel_sem.head()"
   ]
  },
  {
   "cell_type": "markdown",
   "metadata": {},
   "source": [
    "### A bit of pre-processing\n",
    "\n",
    "To get the data in a compareable format for plotting we need to fix some things. To make it easy let's not fix this date issue but let's focus on the month of januari\n",
    "\n",
    "- TAVG clearly not in celsius\n",
    "- Select january"
   ]
  },
  {
   "cell_type": "code",
   "execution_count": null,
   "metadata": {},
   "outputs": [],
   "source": [
    "Ukkel_avg = Ukkel_avg[Ukkel_avg['month'] == 1 ] # Select only month 1 i.e. january\n",
    "Ukkel_avg.sort_values(by='day', inplace = True) # sort values on day (day 1 first), inplace means the data is changed immediately in the DataFrame \n",
    "Ukkel_avg.head()"
   ]
  },
  {
   "cell_type": "code",
   "execution_count": null,
   "metadata": {},
   "outputs": [],
   "source": [
    "Ukkel_sem['TAVG_cel'] = (5/9)*(Ukkel_sem['TAVG']-32) # Convert to celsius, assign to other variable to avoid multiple transformations\n",
    "Ukkel_sem['DATE'] = pd.to_datetime(Ukkel_sem['DATE']) # convert date to a 'datetime' object (to calculate and select with dates)\n",
    "\n",
    "Ukkel_sem['month'] = Ukkel_sem['DATE'].dt.month # calculate the month, (2020-09-14 -> month 9)\n",
    "Ukkel_sem['day'] = Ukkel_sem['DATE'].dt.day # calculat the day (2020-09-14 -> day 14)\n",
    "\n",
    "Ukkel_sem= Ukkel_sem[ Ukkel_sem['month'] == 1 ] # select only the first month\n",
    "Ukkel_sem.sort_values(by='day', inplace = True) # sort on day \n",
    "Ukkel_sem.head()"
   ]
  },
  {
   "cell_type": "markdown",
   "metadata": {},
   "source": [
    "### making the plot\n",
    "\n",
    "Which one do you prefer, lines or points? Why?"
   ]
  },
  {
   "cell_type": "code",
   "execution_count": null,
   "metadata": {},
   "outputs": [],
   "source": [
    "fig, (ax1, ax2) = plt.subplots(2, 1, sharey= True, sharex = True)\n",
    "ax1.scatter(Ukkel_avg['day'], Ukkel_avg['average_temp'], label = \"Average\" )\n",
    "ax1.scatter(Ukkel_sem['day'], Ukkel_sem['TAVG_cel'], label = \"2021\" )\n",
    "ax2.plot(Ukkel_avg['day'], Ukkel_avg['average_temp'], label = \"Average\" );\n",
    "ax2.plot(Ukkel_sem['day'], Ukkel_sem['TAVG_cel'], label = \"2021\")"
   ]
  },
  {
   "cell_type": "markdown",
   "metadata": {},
   "source": [
    "# 2 types of (time series) data: wide vs long"
   ]
  },
  {
   "cell_type": "code",
   "execution_count": null,
   "metadata": {},
   "outputs": [],
   "source": [
    "polio_vac = pd.read_csv('pol3_vacc.csv')\n",
    "polio_vac.head()"
   ]
  },
  {
   "cell_type": "code",
   "execution_count": null,
   "metadata": {},
   "outputs": [],
   "source": [
    "polio_vac_long = pd.melt(polio_vac, id_vars='country', var_name='year', value_name='percentage')\n",
    "polio_vac_long"
   ]
  },
  {
   "cell_type": "code",
   "execution_count": null,
   "metadata": {},
   "outputs": [],
   "source": [
    "polio_vac_long.dtypes"
   ]
  },
  {
   "cell_type": "code",
   "execution_count": null,
   "metadata": {},
   "outputs": [],
   "source": [
    "polio_vac_long['year'] = polio_vac_long['year'].astype(int)"
   ]
  },
  {
   "cell_type": "markdown",
   "metadata": {},
   "source": [
    "# Plotting multiple lines (data) automatically"
   ]
  },
  {
   "cell_type": "code",
   "execution_count": null,
   "metadata": {},
   "outputs": [],
   "source": []
  },
  {
   "cell_type": "markdown",
   "metadata": {},
   "source": [
    "## Something about color maps\n",
    "\n",
    "https://matplotlib.org/stable/gallery/color/colormap_reference.html"
   ]
  },
  {
   "cell_type": "code",
   "execution_count": null,
   "metadata": {},
   "outputs": [],
   "source": []
  },
  {
   "cell_type": "code",
   "execution_count": null,
   "metadata": {},
   "outputs": [],
   "source": []
  },
  {
   "cell_type": "code",
   "execution_count": null,
   "metadata": {},
   "outputs": [],
   "source": [
    "   "
   ]
  },
  {
   "cell_type": "code",
   "execution_count": null,
   "metadata": {},
   "outputs": [],
   "source": []
  },
  {
   "cell_type": "markdown",
   "metadata": {},
   "source": [
    "# Do It Yourself\n",
    "\n",
    "Depending on the time (otherwise we continue next time with this) \n",
    "\n",
    "1. think of something you want to visualise with the gapminder.org data (dont think of the visualisation but think think of the story you want to tell/the question you want answered)\n",
    "2. get the data and load it in\n",
    "3. Make a plot\n"
   ]
  }
 ],
 "metadata": {
  "kernelspec": {
   "display_name": "Python 3",
   "language": "python",
   "name": "python3"
  },
  "language_info": {
   "codemirror_mode": {
    "name": "ipython",
    "version": 3
   },
   "file_extension": ".py",
   "mimetype": "text/x-python",
   "name": "python",
   "nbconvert_exporter": "python",
   "pygments_lexer": "ipython3",
   "version": "3.7.6"
  }
 },
 "nbformat": 4,
 "nbformat_minor": 4
}
