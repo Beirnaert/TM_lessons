{
 "cells": [
  {
   "cell_type": "markdown",
   "metadata": {},
   "source": [
    "# Les 5: Data processing excercise\n",
    "\n",
    "\n",
    "In this lesson we will be using a number of things we have learned in previous lessons. Try to go back to those lessons/notebooks to solve each part of the assignement. There are **optional** excercises in this notebook, these are not really extra or optional, but it is possible to skip these if you are having difficulties or if it takes you longer than expected. So for those who are quite ok with python, do these 'optional' things as you come across them. \n",
    "\n",
    "P.S. you can also search the internet/cheat sheets to find the appropriate code for what you want to do. \n",
    "\n",
    "Before we start, let's load our favourite libraries."
   ]
  },
  {
   "cell_type": "code",
   "execution_count": 1,
   "metadata": {},
   "outputs": [],
   "source": [
    "import numpy as np\n",
    "import pandas as pd\n",
    "import matplotlib.pyplot as plt"
   ]
  },
  {
   "cell_type": "markdown",
   "metadata": {},
   "source": [
    "# Data & pre-processing\n",
    "\n",
    "The data we will be using for this assignment is the IMDb dataset. IMDb (Internet Movie Database) contains information on almost all movies ever made. All these movies recieve ratings from the public and from critics. The aim for today is to learn about the evolution of movies over time. Specifically, we will see how the number of movies has evolved over time and how the 'quality' of these movies has evolved over time. \n",
    "\n",
    "There are 2 datasets, IMDb movies and IMDd ratings. The names are self-explanatory"
   ]
  },
  {
   "cell_type": "markdown",
   "metadata": {},
   "source": [
    "## [Ex] Data Loading\n",
    "\n",
    "Load both datasets correctly. **Warning! The data on my laptop is in the Movie_data folder, this can be different for you** "
   ]
  },
  {
   "cell_type": "code",
   "execution_count": null,
   "metadata": {},
   "outputs": [],
   "source": [
    "films = pd.read_csv(\"Movie_data/IMDb movies.csv\")\n",
    "films.head(3)"
   ]
  },
  {
   "cell_type": "code",
   "execution_count": null,
   "metadata": {},
   "outputs": [],
   "source": [
    "films.dtypes"
   ]
  },
  {
   "cell_type": "code",
   "execution_count": null,
   "metadata": {},
   "outputs": [],
   "source": [
    "ratings = pd.read_csv(\"Movie_data/IMDb ratings.csv\")\n",
    "ratings.head()"
   ]
  },
  {
   "cell_type": "code",
   "execution_count": null,
   "metadata": {},
   "outputs": [],
   "source": [
    "ratings.dtypes"
   ]
  },
  {
   "cell_type": "markdown",
   "metadata": {},
   "source": [
    "## [Ex] Data selection\n",
    "\n",
    "There are a lot of variables but we do not need all of them. Keep only the following variables:\n",
    "\n",
    "- movie data: 'imdb_title_id', 'title\", \"year', 'genre', 'duration', 'country', 'language', 'avg_vote', 'votes'\n",
    "- rating data: 'imdb_title_id', 'total_votes', 'weighted_average_vote', 'mean_vote', 'us_voters_rating', 'non_us_voters_rating'"
   ]
  },
  {
   "cell_type": "markdown",
   "metadata": {},
   "source": [
    "## [Ex] Data merging \n",
    "\n",
    "Merge both datasets into 1 DataFrame. Hint: you can use the pandas merge function."
   ]
  },
  {
   "cell_type": "markdown",
   "metadata": {},
   "source": [
    "## [Ex] Encoding & type checks\n",
    "\n",
    "By checking the encoding we can check for unexpected things. Python loads large datasets in chunks (parts), and an unexpected data type could indicate something wrong. \n",
    "\n",
    "Check the encodings and list which ones need fixing."
   ]
  },
  {
   "cell_type": "markdown",
   "metadata": {},
   "source": [
    "### [Ex, optional] Fixing year\n",
    "\n",
    "There is something wrong with year. See if you can figure it out and fix it. If not, execute the next line of code and proceed. **Note:** this line of code is not a solution for the problem, it simply avoids it. \n",
    "\n",
    "films_merged = films_merged[films_merged['imdb_title_id'] !='tt8206668']"
   ]
  },
  {
   "cell_type": "markdown",
   "metadata": {},
   "source": [
    "### [Ex] Fix the rest of the encoding issues"
   ]
  },
  {
   "cell_type": "markdown",
   "metadata": {},
   "source": [
    "## Select data of interest\n",
    "\n",
    "Let's focus on the 'Hollywood' movie scene, this we can do by selecting the movies from the USA.\n",
    "\n",
    "\n",
    "\n",
    "**[Optional]** Answer the following questions for yourself:\n",
    "1. Is English the only language spoken or are there others\n",
    "2. What's the year of the oldest movie in this data\n",
    "3. What's the year of the youngest movie in this data"
   ]
  },
  {
   "cell_type": "markdown",
   "metadata": {},
   "source": [
    " "
   ]
  },
  {
   "cell_type": "markdown",
   "metadata": {},
   "source": [
    "## [Optional] Standardize the movie scores (Z-score)"
   ]
  },
  {
   "cell_type": "markdown",
   "metadata": {},
   "source": [
    "# Calculations \n",
    "\n",
    "In this section we are going to calculate some aggregate results per year and per decade. Specifically, we are interested in the average and standard deviation of the scores per year/decade. In this way we can hopefully answer the question which year/decade was rated the best for cinema. We are going to do this by writing a function that does these calculations for us"
   ]
  },
  {
   "cell_type": "markdown",
   "metadata": {},
   "source": [
    "## [Ex] Write a function that calculates metrics per year\n",
    "\n",
    "1. avg_vote (average and standard deviation)\n",
    "2. N_movies\n",
    "3. [optional] standardized_vote (average and standard deviation)\n",
    "4. [optional] US and non-US average score"
   ]
  },
  {
   "cell_type": "markdown",
   "metadata": {},
   "source": [
    "## [Optional] Write a function that calculates metrics per decade\n",
    "\n",
    "1. score (average and sd)\n",
    "2. standardized score (average and sd)\n",
    "3. number of movies"
   ]
  },
  {
   "cell_type": "markdown",
   "metadata": {},
   "source": [
    "# Visualising results"
   ]
  },
  {
   "cell_type": "markdown",
   "metadata": {},
   "source": [
    "## [Ex] Visualise the average scores (+/- SD) over time\n",
    "\n",
    "There might be something wrong, if so: fix it"
   ]
  },
  {
   "cell_type": "markdown",
   "metadata": {},
   "source": [
    "## [Optional] Visualise the average scores (+/- SD) over time, and add the decade based data as an errorbar visual."
   ]
  },
  {
   "cell_type": "markdown",
   "metadata": {},
   "source": [
    "## [Optional] Change the previous plot but plot Us vs non-US votes."
   ]
  },
  {
   "cell_type": "markdown",
   "metadata": {},
   "source": []
  },
  {
   "cell_type": "markdown",
   "metadata": {},
   "source": [
    "# [Optional] additonal excercise for the quick:\n",
    "\n",
    "Redo part of the analysis but in the end try to make a comparison between different cinems, e.g. hollywood, vs Japan, India, others? Do they exhibit the same results or are the best years situated somehere else completely? \n"
   ]
  },
  {
   "cell_type": "code",
   "execution_count": null,
   "metadata": {},
   "outputs": [],
   "source": []
  },
  {
   "cell_type": "code",
   "execution_count": null,
   "metadata": {},
   "outputs": [],
   "source": []
  }
 ],
 "metadata": {
  "kernelspec": {
   "display_name": "Python 3",
   "language": "python",
   "name": "python3"
  },
  "language_info": {
   "codemirror_mode": {
    "name": "ipython",
    "version": 3
   },
   "file_extension": ".py",
   "mimetype": "text/x-python",
   "name": "python",
   "nbconvert_exporter": "python",
   "pygments_lexer": "ipython3",
   "version": "3.7.6"
  }
 },
 "nbformat": 4,
 "nbformat_minor": 4
}
